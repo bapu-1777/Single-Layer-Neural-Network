{
 "cells": [
  {
   "cell_type": "code",
   "execution_count": 1,
   "id": "08dc611c",
   "metadata": {},
   "outputs": [],
   "source": [
    "import numpy as np"
   ]
  },
  {
   "cell_type": "code",
   "execution_count": 2,
   "id": "b9a87fc5",
   "metadata": {},
   "outputs": [],
   "source": [
    "X= np.array([[0,1,0],\n",
    "            [1,0,0],\n",
    "            [1,1,1],\n",
    "            [0,1,1]])"
   ]
  },
  {
   "cell_type": "code",
   "execution_count": 3,
   "id": "08eef468",
   "metadata": {},
   "outputs": [],
   "source": [
    "Y=np.array([[0,1,1,0]]).T"
   ]
  },
  {
   "cell_type": "code",
   "execution_count": 4,
   "id": "daef9fd1",
   "metadata": {},
   "outputs": [],
   "source": [
    "W=2*np.random.random((3,1))-1"
   ]
  },
  {
   "cell_type": "code",
   "execution_count": 5,
   "id": "58569492",
   "metadata": {},
   "outputs": [],
   "source": [
    "B=0"
   ]
  },
  {
   "cell_type": "code",
   "execution_count": 55,
   "id": "2b5569f4",
   "metadata": {},
   "outputs": [],
   "source": [
    "net=np.dot(X,W)+B"
   ]
  },
  {
   "cell_type": "code",
   "execution_count": 56,
   "id": "87c6136f",
   "metadata": {},
   "outputs": [],
   "source": [
    "net[net>=0]=1\n",
    "net[net<0]=0\n",
    "activation=net"
   ]
  },
  {
   "cell_type": "code",
   "execution_count": 58,
   "id": "88035095",
   "metadata": {},
   "outputs": [
    {
     "name": "stdout",
     "output_type": "stream",
     "text": [
      "50.0\n"
     ]
    }
   ],
   "source": [
    "total_error=0\n",
    "for i,j in zip(Y,net):\n",
    "    if i!=j:\n",
    "        total_error+=1\n",
    "p_error=100*(total_error/len(Y))\n",
    "print(p_error)"
   ]
  },
  {
   "cell_type": "code",
   "execution_count": null,
   "id": "4dc2b04d",
   "metadata": {},
   "outputs": [],
   "source": []
  },
  {
   "cell_type": "code",
   "execution_count": null,
   "id": "c1666458",
   "metadata": {},
   "outputs": [],
   "source": []
  }
 ],
 "metadata": {
  "kernelspec": {
   "display_name": "Python 3 (ipykernel)",
   "language": "python",
   "name": "python3"
  },
  "language_info": {
   "codemirror_mode": {
    "name": "ipython",
    "version": 3
   },
   "file_extension": ".py",
   "mimetype": "text/x-python",
   "name": "python",
   "nbconvert_exporter": "python",
   "pygments_lexer": "ipython3",
   "version": "3.9.12"
  }
 },
 "nbformat": 4,
 "nbformat_minor": 5
}
